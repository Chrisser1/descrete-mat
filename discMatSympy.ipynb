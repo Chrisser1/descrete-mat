{
 "cells": [
  {
   "cell_type": "code",
   "execution_count": 1,
   "metadata": {},
   "outputs": [],
   "source": [
    "# Alle har de nødvendige imports og inits printing\n",
    "from discrete import *"
   ]
  },
  {
   "cell_type": "markdown",
   "metadata": {},
   "source": [
    "# Extended euclidean algorithm"
   ]
  },
  {
   "cell_type": "markdown",
   "metadata": {},
   "source": [
    "## Polynomier"
   ]
  },
  {
   "cell_type": "code",
   "execution_count": 2,
   "metadata": {},
   "outputs": [
    {
     "data": {
      "image/png": "[encoded data removed]",
      "text/latex": [
       "$\\displaystyle \\left( \\operatorname{Poly}{\\left( x^{4} + x^{3} - 2 x^{2} + 3 x - 43, x, domain=\\mathbb{Z} \\right)}, \\  \\operatorname{Poly}{\\left( x^{2} + 2 x - 6, x, domain=\\mathbb{Z} \\right)}\\right)$"
      ],
      "text/plain": [
       "(Poly(x**4 + x**3 - 2*x**2 + 3*x - 43, x, domain='ZZ'), Poly(x**2 + 2*x - 6, x ↪\n",
       "\n",
       "↪ , domain='ZZ'))"
      ]
     },
     "execution_count": 2,
     "metadata": {},
     "output_type": "execute_result"
    }
   ],
   "source": [
    "# Example usage\n",
    "x = symbols('x', real=True)\n",
    "\n",
    "# Indskriv de to polynomier du vil tjekke\n",
    "N = Poly(x**4 + x**3 - 2*x**2 + 3*x - 43, x)\n",
    "M = Poly(x**2 + 2*x - 6, x)\n",
    "\n",
    "N,M"
   ]
  },
  {
   "cell_type": "code",
   "execution_count": 3,
   "metadata": {},
   "outputs": [
    {
     "data": {
      "text/html": [
       "<div>\n",
       "<style scoped>\n",
       "    .dataframe tbody tr th:only-of-type {\n",
       "        vertical-align: middle;\n",
       "    }\n",
       "\n",
       "    .dataframe tbody tr th {\n",
       "        vertical-align: top;\n",
       "    }\n",
       "\n",
       "    .dataframe thead th {\n",
       "        text-align: right;\n",
       "    }\n",
       "</style>\n",
       "<table border=\"1\" class=\"dataframe\">\n",
       "  <thead>\n",
       "    <tr style=\"text-align: right;\">\n",
       "      <th></th>\n",
       "      <th>k</th>\n",
       "      <th>r_k(x)</th>\n",
       "      <th>s_k(x)</th>\n",
       "      <th>t_k(x)</th>\n",
       "    </tr>\n",
       "  </thead>\n",
       "  <tbody>\n",
       "    <tr>\n",
       "      <th>0</th>\n",
       "      <td>0</td>\n",
       "      <td>x⁴ + x³ - 2*x² + 3*x - 43</td>\n",
       "      <td>1</td>\n",
       "      <td>0</td>\n",
       "    </tr>\n",
       "    <tr>\n",
       "      <th>1</th>\n",
       "      <td>1</td>\n",
       "      <td>x² + 2*x - 6</td>\n",
       "      <td>0</td>\n",
       "      <td>1</td>\n",
       "    </tr>\n",
       "    <tr>\n",
       "      <th>2</th>\n",
       "      <td>2</td>\n",
       "      <td>-15*x - 7</td>\n",
       "      <td>1</td>\n",
       "      <td>-x² + x - 6</td>\n",
       "    </tr>\n",
       "    <tr>\n",
       "      <th>3</th>\n",
       "      <td>3</td>\n",
       "      <td>-1511/225</td>\n",
       "      <td>x/15 + 23/225</td>\n",
       "      <td>-x³/15 - 8*x²/225 - 67*x/225 + 29/75</td>\n",
       "    </tr>\n",
       "    <tr>\n",
       "      <th>4</th>\n",
       "      <td>4</td>\n",
       "      <td>0</td>\n",
       "      <td>*</td>\n",
       "      <td>*</td>\n",
       "    </tr>\n",
       "  </tbody>\n",
       "</table>\n",
       "</div>"
      ],
      "text/plain": [
       "   k                     r_k(x)         s_k(x)  \\\n",
       "0  0  x⁴ + x³ - 2*x² + 3*x - 43              1   \n",
       "1  1               x² + 2*x - 6              0   \n",
       "2  2                  -15*x - 7              1   \n",
       "3  3                  -1511/225  x/15 + 23/225   \n",
       "4  4                          0              *   \n",
       "\n",
       "                                 t_k(x)  \n",
       "0                                     0  \n",
       "1                                     1  \n",
       "2                           -x² + x - 6  \n",
       "3  -x³/15 - 8*x²/225 - 67*x/225 + 29/75  \n",
       "4                                     *  "
      ]
     },
     "execution_count": 3,
     "metadata": {},
     "output_type": "execute_result"
    }
   ],
   "source": [
    "df_results = extended_euclidean_algorithm_polys(N, M, x, true)\n",
    "df_results.head(10)"
   ]
  },
  {
   "cell_type": "markdown",
   "metadata": {},
   "source": [
    "## Numbers"
   ]
  },
  {
   "cell_type": "code",
   "execution_count": 4,
   "metadata": {},
   "outputs": [
    {
     "data": {
      "image/png": "[encoded data removed]",
      "text/latex": [
       "$\\displaystyle \\left( 12, \\  21\\right)$"
      ],
      "text/plain": [
       "(12, 21)"
      ]
     },
     "execution_count": 4,
     "metadata": {},
     "output_type": "execute_result"
    }
   ],
   "source": [
    "# Indskriv de to tal\n",
    "a = 12\n",
    "b = 21\n",
    "\n",
    "a,b"
   ]
  },
  {
   "cell_type": "code",
   "execution_count": 5,
   "metadata": {},
   "outputs": [
    {
     "data": {
      "text/html": [
       "<div>\n",
       "<style scoped>\n",
       "    .dataframe tbody tr th:only-of-type {\n",
       "        vertical-align: middle;\n",
       "    }\n",
       "\n",
       "    .dataframe tbody tr th {\n",
       "        vertical-align: top;\n",
       "    }\n",
       "\n",
       "    .dataframe thead th {\n",
       "        text-align: right;\n",
       "    }\n",
       "</style>\n",
       "<table border=\"1\" class=\"dataframe\">\n",
       "  <thead>\n",
       "    <tr style=\"text-align: right;\">\n",
       "      <th></th>\n",
       "      <th>k</th>\n",
       "      <th>r_k</th>\n",
       "      <th>s_k</th>\n",
       "      <th>t_k</th>\n",
       "    </tr>\n",
       "  </thead>\n",
       "  <tbody>\n",
       "    <tr>\n",
       "      <th>0</th>\n",
       "      <td>0</td>\n",
       "      <td>12</td>\n",
       "      <td>1</td>\n",
       "      <td>0</td>\n",
       "    </tr>\n",
       "    <tr>\n",
       "      <th>1</th>\n",
       "      <td>1</td>\n",
       "      <td>21</td>\n",
       "      <td>0</td>\n",
       "      <td>1</td>\n",
       "    </tr>\n",
       "    <tr>\n",
       "      <th>2</th>\n",
       "      <td>2</td>\n",
       "      <td>12</td>\n",
       "      <td>1</td>\n",
       "      <td>0</td>\n",
       "    </tr>\n",
       "    <tr>\n",
       "      <th>3</th>\n",
       "      <td>3</td>\n",
       "      <td>9</td>\n",
       "      <td>-1</td>\n",
       "      <td>1</td>\n",
       "    </tr>\n",
       "    <tr>\n",
       "      <th>4</th>\n",
       "      <td>4</td>\n",
       "      <td>3</td>\n",
       "      <td>2</td>\n",
       "      <td>-1</td>\n",
       "    </tr>\n",
       "    <tr>\n",
       "      <th>5</th>\n",
       "      <td>5</td>\n",
       "      <td>0</td>\n",
       "      <td>None</td>\n",
       "      <td>None</td>\n",
       "    </tr>\n",
       "  </tbody>\n",
       "</table>\n",
       "</div>"
      ],
      "text/plain": [
       "   k r_k   s_k   t_k\n",
       "0  0  12     1     0\n",
       "1  1  21     0     1\n",
       "2  2  12     1     0\n",
       "3  3   9    -1     1\n",
       "4  4   3     2    -1\n",
       "5  5   0  None  None"
      ]
     },
     "execution_count": 5,
     "metadata": {},
     "output_type": "execute_result"
    }
   ],
   "source": [
    "df_results = extended_euclidean_algorithm_integers(a,b)\n",
    "df_results.head(10)"
   ]
  },
  {
   "cell_type": "markdown",
   "metadata": {},
   "source": [
    "# Inverse of mod\n",
    "\n",
    "![image.png](images/inverseMod.png)"
   ]
  },
  {
   "cell_type": "code",
   "execution_count": 6,
   "metadata": {},
   "outputs": [
    {
     "name": "stdout",
     "output_type": "stream",
     "text": [
      "The multiplicative invers is : 2\n"
     ]
    }
   ],
   "source": [
    "#Insert values:\n",
    "n = 4\n",
    "mod = 7\n",
    "\n",
    "try:\n",
    "    print(f\"The multiplicative invers is : {mod_inverse(n,mod)}\")\n",
    "except:\n",
    "    print(\"Does not exist\")"
   ]
  },
  {
   "cell_type": "code",
   "execution_count": 7,
   "metadata": {},
   "outputs": [
    {
     "name": "stdout",
     "output_type": "stream",
     "text": [
      "The multiplicative invers is : 1\n",
      "The multiplicative invers is : 3\n",
      "The multiplicative invers is : 2\n",
      "The multiplicative invers is : 4\n"
     ]
    }
   ],
   "source": [
    "values = [1,2,3,4]\n",
    "mod = 5\n",
    "\n",
    "for n in values:\n",
    "    try:\n",
    "        print(f\"The multiplicative invers is : {mod_inverse(n,mod)}\")\n",
    "    except:\n",
    "        print(\"Does not exist\")"
   ]
  },
  {
   "cell_type": "markdown",
   "metadata": {},
   "source": [
    "Hvis svarmulighed ikke forkommer, så tjek forskellen mellem mod og n, eksempelvis: $(15 \\mod{17} = -2 \\mod{17})$"
   ]
  },
  {
   "cell_type": "markdown",
   "metadata": {},
   "source": [
    "# Chinese remainder therom (system of congruences)"
   ]
  },
  {
   "cell_type": "markdown",
   "metadata": {},
   "source": [
    "![image.png](images/systemOfCongruences.png)"
   ]
  },
  {
   "cell_type": "code",
   "execution_count": 8,
   "metadata": {},
   "outputs": [
    {
     "name": "stdout",
     "output_type": "stream",
     "text": [
      "x ≡ 68 (mod 105)\n"
     ]
    }
   ],
   "source": [
    "# Definer modulo\n",
    "moduli = [3, 5, 7]\n",
    "\n",
    "# Define the remainders\n",
    "remainders = [2, 3, 5]\n",
    "\n",
    "# Solve using the Chinese Remainder Theorem\n",
    "solution, modulus = crt(moduli, remainders)\n",
    "\n",
    "# Print the solution\n",
    "print(f\"x ≡ {solution} (mod {modulus})\")"
   ]
  },
  {
   "cell_type": "markdown",
   "metadata": {},
   "source": [
    "### Andet eksempel\n",
    "![image.png](images/system2OfCongruences.png)"
   ]
  },
  {
   "cell_type": "markdown",
   "metadata": {},
   "source": [
    "Til denne del beskrives alt som:\n",
    "$$\n",
    "y \\cdot x \\equiv a \\mod{b}\n",
    "$$"
   ]
  },
  {
   "cell_type": "markdown",
   "metadata": {},
   "source": [
    "Start med at analysere ligningen $2x\\equiv a \\mod{6}$.\n",
    "Her udregner vi gcd(2,6). For at denne ligning har en løsning, skal $gcd(2,6) \\mid a$"
   ]
  },
  {
   "cell_type": "code",
   "execution_count": 9,
   "metadata": {},
   "outputs": [
    {
     "data": {
      "image/png": "[encoded data removed]",
      "text/latex": [
       "$\\displaystyle 2$"
      ],
      "text/plain": [
       "2"
      ]
     },
     "execution_count": 9,
     "metadata": {},
     "output_type": "execute_result"
    }
   ],
   "source": [
    "g = gcd(2,6)\n",
    "g"
   ]
  },
  {
   "cell_type": "markdown",
   "metadata": {},
   "source": [
    "Vi kan nu sige Hvis 2 deler a, sæt a=2k, så får vi $2x \\equiv 2k \\mod{6}$.\n",
    "Ved at dividere alt igennem med 2 får vi:\n",
    "$$\n",
    "x \\equiv k \\mod{3}\n",
    "$$\n",
    "Men heldigvis skal du ikke tænke over dette, så det er bare at nyde det nedstående"
   ]
  },
  {
   "cell_type": "code",
   "execution_count": 10,
   "metadata": {},
   "outputs": [
    {
     "name": "stdout",
     "output_type": "stream",
     "text": [
      "x ≡ 21 (mod 42) or 21 + 42ℤ\n",
      "No solution. ∅\n",
      "x ≡ 7 (mod 42) or 7 + 42ℤ\n"
     ]
    }
   ],
   "source": [
    "# Indskriv værdier\n",
    "a_val = [0,1,2]\n",
    "for a in a_val:\n",
    "    # Inskriv formler\n",
    "    equations = [\n",
    "        (2, a, 6),  # 2x ≡ a (mod 6)\n",
    "        (1, 7, 14)  #  x ≡ 7 (mod 14)\n",
    "    ]\n",
    "\n",
    "    res = solve_system_congruences(equations)\n",
    "    if res is None:\n",
    "        print(\"No solution. ∅\")\n",
    "    else:\n",
    "        sol, mod = res\n",
    "        print(f\"x ≡ {sol} (mod {mod}) or {sol} + {mod}ℤ\")"
   ]
  },
  {
   "cell_type": "markdown",
   "metadata": {},
   "source": [
    "### Ekstra eksempel\n",
    "![images.png](images/system3Ofconcruence.png)"
   ]
  },
  {
   "cell_type": "code",
   "execution_count": 11,
   "metadata": {},
   "outputs": [
    {
     "name": "stdout",
     "output_type": "stream",
     "text": [
      "x ≡ 4 (mod 22) or 4 + 22ℤ\n"
     ]
    }
   ],
   "source": [
    "# Indskriv værdier\n",
    "a_val = [4]\n",
    "for a in a_val:\n",
    "    # Inskriv formler\n",
    "    equations = [\n",
    "        (34,a,44) # 34x ≡ 4 (mod 44)\n",
    "    ]\n",
    "\n",
    "    res = solve_system_congruences(equations)\n",
    "    if res is None:\n",
    "        print(\"No solution. ∅\")\n",
    "    else:\n",
    "        sol, mod = res\n",
    "        print(f\"x ≡ {sol} (mod {mod}) or {sol} + {mod}ℤ\")"
   ]
  },
  {
   "cell_type": "markdown",
   "metadata": {},
   "source": [
    "# Conguence to ukendte"
   ]
  },
  {
   "cell_type": "code",
   "execution_count": 12,
   "metadata": {},
   "outputs": [
    {
     "name": "stdout",
     "output_type": "stream",
     "text": [
      "For c=2: Løsningsmængde: ∅\n",
      "For c=35: Løsningsmængde: x = 9 + 13ℤ\n",
      "\n",
      "For at 14x ≡ c (mod 91) har løsninger, skal gcd(14,91)=7 dividere c.\n",
      "Dvs. c ∈ 7ℤ.\n"
     ]
    }
   ],
   "source": [
    "# Indsæt værdier her:\n",
    "# Exempel på ligning: 14x = c(mod 91) hvor c er 2 eller 35\n",
    "a, m = 14, 91\n",
    "test_values = [2, 35]\n",
    "\n",
    "g = gcd(a, m)\n",
    "for c_val in test_values:\n",
    "    sol = solve_linear_congruence(a, c_val, m)\n",
    "    if sol is None:\n",
    "        print(f\"For c={c_val}: Løsningsmængde: ∅\")\n",
    "    else:\n",
    "        x0, M, g = sol\n",
    "        # Løsningsmængde: x = x0 + MZ\n",
    "        print(f\"For c={c_val}: Løsningsmængde: x = {x0} + {M}ℤ\")\n",
    "\n",
    "# Angiv mængden af værdier af c in Z, hvor kongruensligningen har løsninger\n",
    "print(f\"\\nFor at 14x ≡ c (mod 91) har løsninger, skal gcd(14,91)={g} dividere c.\")\n",
    "print(f\"Dvs. c ∈ {g}ℤ.\")"
   ]
  },
  {
   "cell_type": "markdown",
   "metadata": {},
   "source": [
    "# Calculate n choose k $n \\choose k$"
   ]
  },
  {
   "cell_type": "code",
   "execution_count": 13,
   "metadata": {},
   "outputs": [
    {
     "data": {
      "image/png": "[encoded data removed]",
      "text/latex": [
       "$\\displaystyle 3$"
      ],
      "text/plain": [
       "3"
      ]
     },
     "execution_count": 13,
     "metadata": {},
     "output_type": "execute_result"
    }
   ],
   "source": [
    "# Indtast værdier\n",
    "n = 3\n",
    "k = 2\n",
    "\n",
    "comb(n, k)"
   ]
  },
  {
   "cell_type": "markdown",
   "metadata": {},
   "source": [
    "# Problem: Equivalent Sets\n",
    "\n",
    "**conjugated** of a set. Given a universal set $U$, the **conjugated** of a set $A \\subseteq U$ is the set of all elements in $U$ that are not in $A$. Formally:\n",
    "\n",
    "$$\n",
    "\\overline{A} = \\{ x \\in U : x \\notin A \\}\n",
    "$$\n",
    "\n",
    "\n",
    "## Question:\n",
    "Given a universal set $ U $, which of the following sets are equal to $ \\overline{A \\cap (B \\cup C)} $?\n",
    "\n",
    "### Options:\n",
    "1. $ \\text{None of these} $\n",
    "2. $ (A \\cap (B \\cup C)) - U $\n",
    "3. $ \\overline{A} \\cap (\\overline{B} \\cup \\overline{C}) $\n",
    "4. $ A \\cup (B \\cap C) $\n",
    "5. $ (U - (A \\cap B)) \\cap (U - (A \\cap C)) $"
   ]
  },
  {
   "cell_type": "markdown",
   "metadata": {},
   "source": [
    "### Answer:\n",
    "**Step 1: Start with the given expression**\n",
    "\n",
    "$$\n",
    "\\overline{A \\cap (B \\cup C)}\n",
    "$$\n",
    "\n",
    "**Step 2: Apply De Morgan's Laws**\n",
    "\n",
    "Using De Morgan's law:\n",
    "$$\n",
    "\\overline{X \\cap Y} = \\overline{X} \\cup \\overline{Y}\n",
    "$$\n",
    "we can rewrite:\n",
    "$$\n",
    "\\overline{A \\cap (B \\cup C)} = \\overline{A} \\cup \\overline{B \\cup C}\n",
    "$$\n",
    "\n",
    "Now apply De Morgan's law again to $\\overline{B \\cup C}$:\n",
    "$$\n",
    "\\overline{B \\cup C} = \\overline{B} \\cap \\overline{C}\n",
    "$$\n",
    "\n",
    "So we have:\n",
    "$$\n",
    "\\overline{A \\cap (B \\cup C)} = \\overline{A} \\cup (\\overline{B} \\cap \\overline{C})\n",
    "$$\n",
    "\n",
    "This is our simplified form.\n",
    "\n",
    "**Step 3: Compare with the given options**\n",
    "\n",
    "1. **None of these:** We should check all other options first.\n",
    "\n",
    "2. $(A \\cap (B \\cup C)) - U$:\n",
    "\n",
    "   Subtracting the universal set $U$ from any set results in the empty set. Thus:\n",
    "   $$\n",
    "   (A \\cap (B \\cup C)) - U = \\emptyset\n",
    "   $$\n",
    "   This clearly doesn't match $\\overline{A \\cap (B \\cup C)}$.\n",
    "\n",
    "3. $\\overline{A} \\cap (\\overline{B} \\cup \\overline{C})$:\n",
    "\n",
    "   Our derived form is $\\overline{A} \\cup (\\overline{B} \\cap \\overline{C})$. Notice that:\n",
    "   $$\n",
    "   \\overline{A} \\cup (\\overline{B} \\cap \\overline{C}) \\neq \\overline{A} \\cap (\\overline{B} \\cup \\overline{C})\n",
    "   $$\n",
    "   They are not the same due to the difference in how unions and intersections distribute.\n",
    "\n",
    "4. $A \\cup (B \\cap C)$:\n",
    "\n",
    "   This doesn't match the complement form we have. Substituting a few test cases quickly shows it doesn't align with $\\overline{A \\cap (B \\cup C)}$.\n",
    "\n",
    "5. $(U - (A \\cap B)) \\cap (U - (A \\cap C))$:\n",
    "\n",
    "   Let's rewrite this using complements. Since $U - X = \\overline{X}$, we get:\n",
    "   $$\n",
    "   (U - (A \\cap B)) \\cap (U - (A \\cap C)) = \\overline{A \\cap B} \\cap \\overline{A \\cap C}\n",
    "   $$\n",
    "\n",
    "   Apply De Morgan's law to each:\n",
    "   $$\n",
    "   \\overline{A \\cap B} = \\overline{A} \\cup \\overline{B}\n",
    "   $$\n",
    "   $$\n",
    "   \\overline{A \\cap C} = \\overline{A} \\cup \\overline{C}\n",
    "   $$\n",
    "\n",
    "   Substitute these back:\n",
    "   $$\n",
    "   (\\overline{A} \\cup \\overline{B}) \\cap (\\overline{A} \\cup \\overline{C})\n",
    "   $$\n",
    "\n",
    "   Now use the distributive law:\n",
    "   $$\n",
    "   (\\overline{A} \\cup \\overline{B}) \\cap (\\overline{A} \\cup \\overline{C}) = \\overline{A} \\cup (\\overline{B} \\cap \\overline{C})\n",
    "   $$\n",
    "\n",
    "   This matches exactly with our simplified form of $\\overline{A \\cap (B \\cup C)}$.\n",
    "\n",
    "**Conclusion:**\n",
    "\n",
    "Option 5 is exactly equal to $\\overline{A \\cap (B \\cup C)}$.\n",
    "\n",
    "---\n",
    "\n",
    "# Final Answer\n",
    "\n",
    "$$\n",
    "\\boxed{(U - (A \\cap B)) \\cap (U - (A \\cap C))}\n",
    "$$\n",
    "\n",
    "Thus, the correct choice is **Option 5**."
   ]
  },
  {
   "cell_type": "markdown",
   "metadata": {},
   "source": [
    "# Permutations"
   ]
  },
  {
   "cell_type": "markdown",
   "metadata": {},
   "source": [
    "Consider all permutations of abcde.\n",
    "1. How many do not contain abc?\n",
    "2. How many contain ab or bc?\n",
    "3. How many contain ab or bc but not abc?"
   ]
  },
  {
   "cell_type": "code",
   "execution_count": 14,
   "metadata": {},
   "outputs": [
    {
     "name": "stdout",
     "output_type": "stream",
     "text": [
      "Count not containing 'abc': 114\n",
      "Count containing 'ab' or 'bc': 42\n",
      "Count containing 'ab' or 'bc' but not 'abc': 36\n"
     ]
    }
   ],
   "source": [
    "# Indsæt her:\n",
    "pf = PermutationFilter(\"abcde\")\n",
    "\n",
    "# All permutations not containing 'abc'½\n",
    "no_abc = pf.filter_permutations(exclude_substrings=['abc'])\n",
    "print(\"Count not containing 'abc':\", len(no_abc))\n",
    "\n",
    "# All permutations containing 'ab' or 'bc'\n",
    "ab_bc = pf.filter_permutations(include_substrings=['ab', 'bc'])\n",
    "print(\"Count containing 'ab' or 'bc':\", len(ab_bc))\n",
    "\n",
    "# All permutations containing 'ab' or 'bc' but not 'abc'\n",
    "ab_bc_no_abc = pf.filter_permutations(include_substrings=['ab', 'bc'], exclude_substrings=['abc'])\n",
    "print(\"Count containing 'ab' or 'bc' but not 'abc':\", len(ab_bc_no_abc))"
   ]
  },
  {
   "cell_type": "markdown",
   "metadata": {},
   "source": [
    "# Coefficients"
   ]
  },
  {
   "cell_type": "markdown",
   "metadata": {},
   "source": [
    "The coefficient of $x^7 \\cdot y^2$ in $(2x+3y)^9$ is:"
   ]
  },
  {
   "cell_type": "code",
   "execution_count": 15,
   "metadata": {},
   "outputs": [
    {
     "data": {
      "image/png": "[encoded data removed]",
      "text/latex": [
       "$\\displaystyle \\left\\{ 2 : 9, \\  3 : 4\\right\\}$"
      ],
      "text/plain": [
       "{2: 9, 3: 4}"
      ]
     },
     "execution_count": 15,
     "metadata": {},
     "output_type": "execute_result"
    }
   ],
   "source": [
    "# Define the variables\n",
    "x, y = symbols('x y')\n",
    "\n",
    "# Indskriv funktionen og coefficients\n",
    "expr = (2*x + 3*y)**9\n",
    "coeffs = x**7 * y**2\n",
    "\n",
    "# Expand the expression\n",
    "expanded_expr = expand(expr)\n",
    "\n",
    "# Extract the coefficient of x^7 * y^2\n",
    "coefficient = expanded_expr.coeff(coeffs)\n",
    "\n",
    "# Factorize the coefficient\n",
    "factorized_coefficient = factorint(coefficient)\n",
    "factorized_coefficient\n"
   ]
  },
  {
   "cell_type": "markdown",
   "metadata": {},
   "source": [
    "Aflæses som $2^93^4$"
   ]
  },
  {
   "cell_type": "markdown",
   "metadata": {},
   "source": [
    "## If it doesn't work use Binomial Theorem (Manual Approach):\n",
    "\n",
    "### General Term in the Expansion of $ (2x + 3y)^9 $\n",
    "\n",
    "The general term in the expansion of $ (2x + 3y)^9 $ is given by:\n",
    "\n",
    "$$\n",
    "T_k = \\binom{9}{k} \\cdot (2x)^{9-k} \\cdot (3y)^k\n",
    "$$\n",
    "\n",
    "---\n",
    "\n",
    "For $ x^7 \\cdot y^2 $, we have:\n",
    "\n",
    "$$\n",
    "9 - k = 7 \\implies k = 2\n",
    "$$\n",
    "\n",
    "---\n",
    "\n",
    "### Substitute $ k = 2 $:\n",
    "\n",
    "The coefficient of $ x^7 \\cdot y^2 $ is:\n",
    "\n",
    "$$\n",
    "\\text{Coefficient} = \\binom{9}{2} \\cdot (2)^7 \\cdot (3)^2\n",
    "$$\n",
    "\n",
    "### Step 2: Substitute $ k = 2 $\n",
    "\n",
    "The coefficient of $ x^7 y^2 $ is:\n",
    "\n",
    "$$\n",
    "\\text{Coefficient} = \\binom{9}{2} \\cdot (2)^7 \\cdot (3)^2\n",
    "$$\n",
    "\n",
    "---\n",
    "\n",
    "### Step 3: Compute Each Part\n",
    "\n",
    "1. **Binomial Coefficient:**\n",
    "   $$\n",
    "   \\binom{9}{2} = \\frac{9 \\cdot 8}{2} = 36\n",
    "   $$\n",
    "\n",
    "2. **Power of 2:**\n",
    "   $$\n",
    "   (2)^7 = 128\n",
    "   $$\n",
    "\n",
    "3. **Power of 3:**\n",
    "   $$\n",
    "   (3)^2 = 9\n",
    "   $$\n",
    "\n",
    "4. **Combine All:**\n",
    "   $$\n",
    "   \\text{Coefficient} = 36 \\cdot 128 \\cdot 9\n",
    "   $$\n",
    "\n",
    "---\n",
    "\n",
    "### Step 4: Simplify the Expression\n",
    "\n",
    "Simplify step-by-step:\n",
    "\n",
    "1. Multiply:\n",
    "   $$\n",
    "   36 \\cdot 128 = 4608\n",
    "   $$\n",
    "2. Multiply further:\n",
    "   $$\n",
    "   4608 \\cdot 9 = 41472\n",
    "   $$\n",
    "\n",
    "This simplifies in terms of powers of 2 and 3:\n",
    "$$\n",
    "41472 = 2^9 \\cdot 3^4\n",
    "$$\n",
    "\n"
   ]
  },
  {
   "cell_type": "markdown",
   "metadata": {},
   "source": [
    "# Number of derangements\n",
    "Let $ D_n $ denote the number of derangements of $ n $ objects. For instance, $ D_3 = 2 $, because the derangements of $ 123 $ are $ 231 $ and $ 312 $. We will evaluate $ D_n $ for all positive integers $ n $ using the principle of inclusion–exclusion.\n",
    "\n",
    "---\n",
    "\n",
    "## **Theorem 2**\n",
    "\n",
    "The number of derangements of a set with $ n $ elements is:\n",
    "\n",
    "$$\n",
    "D_n = n! \\left[ 1 - \\frac{1}{1!} + \\frac{1}{2!} - \\frac{1}{3!} + \\cdots + (-1)^n \\frac{1}{n!} \\right].\n",
    "$$"
   ]
  },
  {
   "cell_type": "code",
   "execution_count": 16,
   "metadata": {},
   "outputs": [
    {
     "data": {
      "image/png": "[encoded data removed]",
      "text/latex": [
       "$\\displaystyle 265$"
      ],
      "text/plain": [
       "265"
      ]
     },
     "execution_count": 16,
     "metadata": {},
     "output_type": "execute_result"
    }
   ],
   "source": [
    "# Example D_6\n",
    "derangement_formula(6)"
   ]
  },
  {
   "cell_type": "markdown",
   "metadata": {},
   "source": [
    "# Cube graph"
   ]
  },
  {
   "cell_type": "code",
   "execution_count": 17,
   "metadata": {},
   "outputs": [
    {
     "name": "stdout",
     "output_type": "stream",
     "text": [
      "Number of edges in a 4-cube: 32\n"
     ]
    }
   ],
   "source": [
    "# Example: Edges in a 4-cube\n",
    "n = 4\n",
    "print(f\"Number of edges in a {n}-cube: {count_edges_in_n_cube(n)}\")\n"
   ]
  },
  {
   "cell_type": "markdown",
   "metadata": {},
   "source": [
    "# Other graps"
   ]
  },
  {
   "cell_type": "code",
   "execution_count": null,
   "metadata": {},
   "outputs": [
    {
     "data": {
      "text/plain": [
       "{'Cube Graph': {'Vertices': 16, 'Edges': 32},\n",
       " 'Complete Graph': {'Vertices': 4, 'Edges': 6},\n",
       " 'Bipartite Graph': {'Vertices': 6, 'Edges': 8},\n",
       " 'Cycle Graph': {'Vertices': 4, 'Edges': 4},\n",
       " 'Wheel Graph': {'Vertices': 4, 'Edges': 6}}"
      ]
     },
     "execution_count": 18,
     "metadata": {},
     "output_type": "execute_result"
    }
   ],
   "source": [
    "# n (int): A parameter related to the graph type (e.g., vertices or dimension for cube).\n",
    "n = 4\n",
    "# m (int, optional): For bipartite graphs, the size of the second partition.\n",
    "m = 2\n",
    "\n",
    "graph_properties_all_types = graph_properties_all(4, m=2)\n",
    "graph_properties_all_types"
   ]
  },
  {
   "cell_type": "markdown",
   "metadata": {},
   "source": [
    "# Min number sum (pigeonhole principle)"
   ]
  },
  {
   "cell_type": "markdown",
   "metadata": {},
   "source": [
    "![image.png](images/minNumberGuarentee.png)"
   ]
  },
  {
   "cell_type": "code",
   "execution_count": 19,
   "metadata": {},
   "outputs": [
    {
     "name": "stdout",
     "output_type": "stream",
     "text": [
      "Minimum number of selections needed to guarantee a sum of 16: 5\n"
     ]
    }
   ],
   "source": [
    "# Indtast tal og target:\n",
    "numbers = [1, 3, 5, 7, 9, 11, 13, 15]\n",
    "target = 16\n",
    "\n",
    "count = guaranteed_selection_count(target, numbers)\n",
    "print(f\"Minimum number of selections needed to guarantee a sum of {target}: {count}\")"
   ]
  },
  {
   "cell_type": "markdown",
   "metadata": {},
   "source": [
    "# Relation\n",
    "**Reflexive:** A binary relation $ R $ on a set $ A $ is called *reflexive* if every element in $ A $ is related to itself. Formally, for every $ a \\in A $,\n",
    "$$\n",
    "(a, a) \\in R.\n",
    "$$\n",
    "\n",
    "**Symmetric:** A binary relation $ R $ on a set $ A $ is *symmetric* if whenever $ a $ is related to $ b $, then $ b $ is also related to $ a $. Formally, for every $ a, b \\in A $,\n",
    "$$\n",
    "(a, b) \\in R \\implies (b, a) \\in R.\n",
    "$$\n",
    "\n",
    "**Antisymmetric:** A binary relation $ R $ on a set $ A $ is *antisymmetric* if the only way for both $ a $ to be related to $ b $ and $ b $ to be related to $ a $ to hold simultaneously is when $ a = b $. Formally, for every $ a, b \\in A $,\n",
    "$$\n",
    "(a, b) \\in R \\text{ and } (b, a) \\in R \\implies a = b.\n",
    "$$\n",
    "\n",
    "**Transitive:** A binary relation $ R $ on a set $ A $ is *transitive* if whenever $ a $ is related to $ b $ and $ b $ is related to $ c $, then $ a $ must also be related to $ c $. Formally, for every $ a, b, c \\in A $,\n",
    "$$\n",
    "(a, b) \\in R \\text{ and } (b, c) \\in R \\implies (a, c) \\in R.\n",
    "$$\n"
   ]
  },
  {
   "cell_type": "markdown",
   "metadata": {},
   "source": [
    "![image.png](images/relations.png)"
   ]
  },
  {
   "cell_type": "code",
   "execution_count": 20,
   "metadata": {},
   "outputs": [
    {
     "name": "stdout",
     "output_type": "stream",
     "text": [
      "R1: {'reflexive': False, 'symmetric': False, 'antisymmetric': False, 'transitive': False}\n",
      "R2: {'reflexive': True, 'symmetric': False, 'antisymmetric': False, 'transitive': False}\n",
      "R3: {'reflexive': False, 'symmetric': False, 'antisymmetric': True, 'transitive': False}\n"
     ]
    }
   ],
   "source": [
    "# Indput her:\n",
    "A = {'a', 'b', 'c', 'd'}\n",
    "\n",
    "R1 = {('a','b'), ('b','a'), ('b','c'), ('c','b'), ('c','d'), ('d','a'), ('a','d')}\n",
    "results_R1 = check_relation_properties(A, R1)\n",
    "print(\"R1:\", results_R1)\n",
    "\n",
    "R2 = {('a','a'), ('b','b'), ('c','c'), ('d','d'), ('c','d'), ('d','c'), ('b','c')}\n",
    "results_R2 = check_relation_properties(A, R2)\n",
    "print(\"R2:\", results_R2)\n",
    "\n",
    "R3 = {('a','b'), ('b','c'), ('c','d'), ('a','c')}\n",
    "results_R3 = check_relation_properties(A, R3)\n",
    "print(\"R3:\", results_R3)"
   ]
  },
  {
   "cell_type": "markdown",
   "metadata": {},
   "source": [
    "# Sets and subset sizes"
   ]
  },
  {
   "cell_type": "markdown",
   "metadata": {},
   "source": [
    "![image.png](images/sizeOfSet.png)"
   ]
  },
  {
   "cell_type": "code",
   "execution_count": 21,
   "metadata": {},
   "outputs": [
    {
     "name": "stdout",
     "output_type": "stream",
     "text": [
      "Number of subsets of A with size exactly 20: C(80, 20) = 3535316142212174320\n",
      "Number of subsets of A with no element greater than 60: 2^60 = 1152921504606846976\n",
      "Number of subsets of A with an even number of elements: 2^(79) = 604462909807314587353088\n"
     ]
    }
   ],
   "source": [
    "n = 80\n",
    "\n",
    "# Question 1: How many subsets have size exactly 20?\n",
    "# Closed form: C(80, 20)\n",
    "count_size_20 = comb(n, 20)\n",
    "\n",
    "# Question 2: How many subsets have no element greater than 60?\n",
    "# This is simply all subsets of {1, 2, ..., 60} since we can't pick anything > 60.\n",
    "# Number of such subsets: 2^60\n",
    "count_no_greater_than_60 = 2**60\n",
    "\n",
    "# Question 3: How many subsets have an even number of elements?\n",
    "# For a set of size n, the number of even-sized subsets equals the number of odd-sized subsets, each is half of 2^n.\n",
    "# This is because the binomial coefficients sum evenly. Thus, the count is 2^(n-1).\n",
    "count_even_elements = 2**(n - 1)\n",
    "\n",
    "# Print the answers clearly\n",
    "print(\"Number of subsets of A with size exactly 20: C(80, 20) =\", count_size_20)\n",
    "print(\"Number of subsets of A with no element greater than 60: 2^60 =\", count_no_greater_than_60)\n",
    "print(\"Number of subsets of A with an even number of elements: 2^(79) =\", count_even_elements)\n"
   ]
  },
  {
   "cell_type": "markdown",
   "metadata": {},
   "source": [
    "604462909807314587353088 = $2^{79}$"
   ]
  },
  {
   "cell_type": "markdown",
   "metadata": {},
   "source": [
    "# gcd og lcm"
   ]
  },
  {
   "cell_type": "markdown",
   "metadata": {},
   "source": [
    "Greatest common divider og lowest common multiple skrives som:"
   ]
  },
  {
   "cell_type": "code",
   "execution_count": 22,
   "metadata": {},
   "outputs": [
    {
     "data": {
      "image/png": "[encoded data removed]",
      "text/latex": [
       "$\\displaystyle \\left( 3, \\  9594\\right)$"
      ],
      "text/plain": [
       "(3, 9594)"
      ]
     },
     "execution_count": 22,
     "metadata": {},
     "output_type": "execute_result"
    }
   ],
   "source": [
    "# Example\n",
    "a = 123\n",
    "b = 234\n",
    "\n",
    "gcd(a,b), lcm(a,b)"
   ]
  },
  {
   "cell_type": "markdown",
   "metadata": {},
   "source": [
    "![image.png](images/theorem5.png)"
   ]
  },
  {
   "cell_type": "markdown",
   "metadata": {},
   "source": [
    "# Identity checker"
   ]
  },
  {
   "cell_type": "markdown",
   "metadata": {},
   "source": [
    "![image.png](images/identitetCheck.png)"
   ]
  },
  {
   "cell_type": "code",
   "execution_count": 23,
   "metadata": {},
   "outputs": [
    {
     "name": "stdout",
     "output_type": "stream",
     "text": [
      "Function 'f1' equals for all tested n.\n",
      "Function 'f2' does NOT equal.\n",
      "Function 'f3' does NOT equal.\n",
      "Function 'f4' does NOT equal.\n"
     ]
    }
   ],
   "source": [
    "# Define the variable\n",
    "n = Symbol('n', positive=True, integer=True)\n",
    "'''\n",
    "Indskriv dinne funktioner her:\n",
    "'''\n",
    "# Funktion som man er givet\n",
    "def reference(n):\n",
    "    return n * (2**(n-1)) # Omskriv denne del\n",
    "\n",
    "# sum_{k=1}^{n} (n choose k)*k\n",
    "f1 = lambda n: sum(\n",
    "    # Skriv funktion her\n",
    "    comb(n, k)*k\n",
    "    for k in\n",
    "    # Skriv range n løber mod husk at du skal plus med 1\n",
    "    range(1, n+1)\n",
    "    )\n",
    "# sum_{k=0}^{n-1} (n choose k) (n choose k+1)\n",
    "f2 = lambda n: sum(\n",
    "    comb(n, k)*comb(n, k+1)\n",
    "    for k in\n",
    "    range(n)\n",
    "    )\n",
    "# sum_{k=1}^{n} 2^k\n",
    "f3 = lambda n: sum(\n",
    "    2**k\n",
    "    for k in\n",
    "    range(1, n+1)\n",
    "    )\n",
    "# sum_{k=0}^{n-1} 2^k\n",
    "f4 = lambda n: sum(\n",
    "    2**k\n",
    "    for k in\n",
    "    range(n)\n",
    "    )\n",
    "candidates = [f1,f2,f3,f4]\n",
    "\n",
    "# Check each candidate\n",
    "for i, func in enumerate(candidates, start=1):\n",
    "    matches = test_formula(func,reference)\n",
    "    if matches:\n",
    "        print(f\"Function 'f{i}' equals for all tested n.\")\n",
    "    else:\n",
    "        print(f\"Function 'f{i}' does NOT equal.\")"
   ]
  },
  {
   "cell_type": "markdown",
   "metadata": {},
   "source": [
    "# Check funktion for values\n",
    "![image.png](images/funktionTest.png)"
   ]
  },
  {
   "cell_type": "code",
   "execution_count": 24,
   "metadata": {},
   "outputs": [],
   "source": [
    "# Skriv funktion ind\n",
    "def f(n):\n",
    "    if n % 2 == 1:\n",
    "        return 1\n",
    "    else:\n",
    "        return 2 * f(n/2)"
   ]
  },
  {
   "cell_type": "code",
   "execution_count": 25,
   "metadata": {},
   "outputs": [
    {
     "data": {
      "image/png": "[encoded data removed]",
      "text/latex": [
       "$\\displaystyle \\left( 8, \\  8\\right)$"
      ],
      "text/plain": [
       "(8, 8)"
      ]
     },
     "execution_count": 25,
     "metadata": {},
     "output_type": "execute_result"
    }
   ],
   "source": [
    "a = 232\n",
    "b = 212321\n",
    "(f(a*b)),(f(a)*f(b))"
   ]
  },
  {
   "cell_type": "code",
   "execution_count": 26,
   "metadata": {},
   "outputs": [],
   "source": [
    "for i in range(1,10000):\n",
    "    if f(i) == 17:\n",
    "        print(\"True\")"
   ]
  },
  {
   "cell_type": "markdown",
   "metadata": {},
   "source": [
    "# Løs sum funktioner"
   ]
  },
  {
   "cell_type": "code",
   "execution_count": 27,
   "metadata": {},
   "outputs": [
    {
     "data": {
      "image/png": "[encoded data removed]",
      "text/latex": [
       "$\\displaystyle 0.75$"
      ],
      "text/plain": [
       "0.75"
      ]
     },
     "execution_count": 27,
     "metadata": {},
     "output_type": "execute_result"
    }
   ],
   "source": [
    "f = lambda n: sum(\n",
    "    # Indskriv funktion\n",
    "    1/(k*(k+1))\n",
    "    for k in\n",
    "    # Indskriv range\n",
    "    range(1, n+1)\n",
    "    )\n",
    "\n",
    "\n",
    "f(3)\n"
   ]
  },
  {
   "cell_type": "code",
   "execution_count": 28,
   "metadata": {},
   "outputs": [],
   "source": [
    "for n in range(1,1000):\n",
    "    for k in range(n):\n",
    "        if comb(n,k) != comb(n,n-k):\n",
    "            print(f\"False when k = {k} and n = {n}\")"
   ]
  },
  {
   "cell_type": "markdown",
   "metadata": {},
   "source": [
    "# Terning"
   ]
  },
  {
   "cell_type": "code",
   "execution_count": 35,
   "metadata": {},
   "outputs": [
    {
     "data": {
      "image/png": "[encoded data removed]",
      "text/latex": [
       "$\\displaystyle 5$"
      ],
      "text/plain": [
       "5"
      ]
     },
     "execution_count": 35,
     "metadata": {},
     "output_type": "execute_result"
    }
   ],
   "source": [
    "from random import randint\n",
    "spørgsmål_mængden = 6\n",
    "\n",
    "randint(0,spørgsmål_mængden)"
   ]
  },
  {
   "cell_type": "code",
   "execution_count": null,
   "metadata": {},
   "outputs": [],
   "source": []
  }
 ],
 "metadata": {
  "kernelspec": {
   "display_name": "DTUMisc",
   "language": "python",
   "name": "python3"
  },
  "language_info": {
   "codemirror_mode": {
    "name": "ipython",
    "version": 3
   },
   "file_extension": ".py",
   "mimetype": "text/x-python",
   "name": "python",
   "nbconvert_exporter": "python",
   "pygments_lexer": "ipython3",
   "version": "3.11.10"
  }
 },
 "nbformat": 4,
 "nbformat_minor": 2
}
