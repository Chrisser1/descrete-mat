{
 "cells": [
  {
   "cell_type": "code",
   "execution_count": 1,
   "metadata": {},
   "outputs": [],
   "source": [
    "# Alle har de nødvendige imports og inits printing\n",
    "from discrete import *"
   ]
  },
  {
   "cell_type": "markdown",
   "metadata": {},
   "source": [
    "# Extended euclidean algorithm"
   ]
  },
  {
   "cell_type": "markdown",
   "metadata": {},
   "source": [
    "## Polynomier"
   ]
  },
  {
   "cell_type": "code",
   "execution_count": 2,
   "metadata": {},
   "outputs": [],
   "source": [
    "# Example usage\n",
    "x = symbols('x', real=True)\n",
    "\n",
    "# Indskriv de to polynomier du vil tjekke\n",
    "N = Poly(x**4 + x**3 - 2*x**2 + 3*x - 43, x)\n",
    "M = Poly(x**2 + 2*x - 6, x)\n",
    "\n",
    "N,M"
   ]
  },
  {
   "cell_type": "code",
   "execution_count": 3,
   "metadata": {},
   "outputs": [],
   "source": [
    "df_results = extended_euclidean_algorithm_polys(N, M, x, true)\n",
    "df_results.head(10)"
   ]
  },
  {
   "cell_type": "markdown",
   "metadata": {},
   "source": [
    "## Numbers"
   ]
  },
  {
   "cell_type": "code",
   "execution_count": 4,
   "metadata": {},
   "outputs": [],
   "source": [
    "# Indskriv de to tal\n",
    "a = 32\n",
    "b = 322\n",
    "\n",
    "a,b"
   ]
  },
  {
   "cell_type": "code",
   "execution_count": 5,
   "metadata": {},
   "outputs": [],
   "source": [
    "df_results = extended_euclidean_algorithm_integers(a,b)\n",
    "df_results.head(10)"
   ]
  },
  {
   "cell_type": "markdown",
   "metadata": {},
   "source": [
    "# Inverse of mod\n",
    "\n",
    "![image.png](images/inverseMod.png)"
   ]
  },
  {
   "cell_type": "code",
   "execution_count": 6,
   "metadata": {},
   "outputs": [],
   "source": [
    "#Insert values:\n",
    "n = 5\n",
    "mod = 6\n",
    "\n",
    "try:\n",
    "    print(f\"The multiplicative invers is : {mod_inverse(n,mod)}\")\n",
    "except:\n",
    "    print(\"Does not exist\")"
   ]
  },
  {
   "cell_type": "markdown",
   "metadata": {},
   "source": [
    "# Chinese remainder therom (system of congruences)"
   ]
  },
  {
   "cell_type": "markdown",
   "metadata": {},
   "source": [
    "![image.png](images/systemOfCongruences.png)"
   ]
  },
  {
   "cell_type": "code",
   "execution_count": 7,
   "metadata": {},
   "outputs": [],
   "source": [
    "# Definer modulo\n",
    "moduli = [3, 5, 7]\n",
    "\n",
    "# Define the remainders\n",
    "remainders = [2, 3, 5]\n",
    "\n",
    "# Solve using the Chinese Remainder Theorem\n",
    "solution, modulus = crt(moduli, remainders)\n",
    "\n",
    "# Print the solution\n",
    "print(f\"x ≡ {solution} (mod {modulus})\")"
   ]
  },
  {
   "cell_type": "markdown",
   "metadata": {},
   "source": [
    "# Calculate n choose k $n \\choose k$"
   ]
  },
  {
   "cell_type": "code",
   "execution_count": 8,
   "metadata": {},
   "outputs": [],
   "source": [
    "from math import comb\n",
    "\n",
    "# Indtast værdier\n",
    "n = 3\n",
    "k = 2\n",
    "\n",
    "comb(n, k)"
   ]
  },
  {
   "cell_type": "markdown",
   "metadata": {},
   "source": [
    "# Problem: Equivalent Sets\n",
    "\n",
    "**conjugated** of a set. Given a universal set $U$, the **conjugated** of a set $A \\subseteq U$ is the set of all elements in $U$ that are not in $A$. Formally:\n",
    "\n",
    "$$\n",
    "\\overline{A} = \\{ x \\in U : x \\notin A \\}\n",
    "$$\n",
    "\n",
    "\n",
    "## Question:\n",
    "Given a universal set $ U $, which of the following sets are equal to $ \\overline{A \\cap (B \\cup C)} $?\n",
    "\n",
    "### Options:\n",
    "1. $ \\text{None of these} $\n",
    "2. $ (A \\cap (B \\cup C)) - U $\n",
    "3. $ \\overline{A} \\cap (\\overline{B} \\cup \\overline{C}) $\n",
    "4. $ A \\cup (B \\cap C) $\n",
    "5. $ (U - (A \\cap B)) \\cap (U - (A \\cap C)) $"
   ]
  },
  {
   "cell_type": "markdown",
   "metadata": {},
   "source": [
    "### Answer:\n",
    "**Step 1: Start with the given expression**\n",
    "\n",
    "$$\n",
    "\\overline{A \\cap (B \\cup C)}\n",
    "$$\n",
    "\n",
    "**Step 2: Apply De Morgan's Laws**\n",
    "\n",
    "Using De Morgan's law:\n",
    "$$\n",
    "\\overline{X \\cap Y} = \\overline{X} \\cup \\overline{Y}\n",
    "$$\n",
    "we can rewrite:\n",
    "$$\n",
    "\\overline{A \\cap (B \\cup C)} = \\overline{A} \\cup \\overline{B \\cup C}\n",
    "$$\n",
    "\n",
    "Now apply De Morgan's law again to $\\overline{B \\cup C}$:\n",
    "$$\n",
    "\\overline{B \\cup C} = \\overline{B} \\cap \\overline{C}\n",
    "$$\n",
    "\n",
    "So we have:\n",
    "$$\n",
    "\\overline{A \\cap (B \\cup C)} = \\overline{A} \\cup (\\overline{B} \\cap \\overline{C})\n",
    "$$\n",
    "\n",
    "This is our simplified form.\n",
    "\n",
    "**Step 3: Compare with the given options**\n",
    "\n",
    "1. **None of these:** We should check all other options first.\n",
    "\n",
    "2. $(A \\cap (B \\cup C)) - U$:\n",
    "\n",
    "   Subtracting the universal set $U$ from any set results in the empty set. Thus:\n",
    "   $$\n",
    "   (A \\cap (B \\cup C)) - U = \\emptyset\n",
    "   $$\n",
    "   This clearly doesn't match $\\overline{A \\cap (B \\cup C)}$.\n",
    "\n",
    "3. $\\overline{A} \\cap (\\overline{B} \\cup \\overline{C})$:\n",
    "\n",
    "   Our derived form is $\\overline{A} \\cup (\\overline{B} \\cap \\overline{C})$. Notice that:\n",
    "   $$\n",
    "   \\overline{A} \\cup (\\overline{B} \\cap \\overline{C}) \\neq \\overline{A} \\cap (\\overline{B} \\cup \\overline{C})\n",
    "   $$\n",
    "   They are not the same due to the difference in how unions and intersections distribute.\n",
    "\n",
    "4. $A \\cup (B \\cap C)$:\n",
    "\n",
    "   This doesn't match the complement form we have. Substituting a few test cases quickly shows it doesn't align with $\\overline{A \\cap (B \\cup C)}$.\n",
    "\n",
    "5. $(U - (A \\cap B)) \\cap (U - (A \\cap C))$:\n",
    "\n",
    "   Let's rewrite this using complements. Since $U - X = \\overline{X}$, we get:\n",
    "   $$\n",
    "   (U - (A \\cap B)) \\cap (U - (A \\cap C)) = \\overline{A \\cap B} \\cap \\overline{A \\cap C}\n",
    "   $$\n",
    "\n",
    "   Apply De Morgan's law to each:\n",
    "   $$\n",
    "   \\overline{A \\cap B} = \\overline{A} \\cup \\overline{B}\n",
    "   $$\n",
    "   $$\n",
    "   \\overline{A \\cap C} = \\overline{A} \\cup \\overline{C}\n",
    "   $$\n",
    "\n",
    "   Substitute these back:\n",
    "   $$\n",
    "   (\\overline{A} \\cup \\overline{B}) \\cap (\\overline{A} \\cup \\overline{C})\n",
    "   $$\n",
    "\n",
    "   Now use the distributive law:\n",
    "   $$\n",
    "   (\\overline{A} \\cup \\overline{B}) \\cap (\\overline{A} \\cup \\overline{C}) = \\overline{A} \\cup (\\overline{B} \\cap \\overline{C})\n",
    "   $$\n",
    "\n",
    "   This matches exactly with our simplified form of $\\overline{A \\cap (B \\cup C)}$.\n",
    "\n",
    "**Conclusion:**\n",
    "\n",
    "Option 5 is exactly equal to $\\overline{A \\cap (B \\cup C)}$.\n",
    "\n",
    "---\n",
    "\n",
    "# Final Answer\n",
    "\n",
    "$$\n",
    "\\boxed{(U - (A \\cap B)) \\cap (U - (A \\cap C))}\n",
    "$$\n",
    "\n",
    "Thus, the correct choice is **Option 5**."
   ]
  },
  {
   "cell_type": "markdown",
   "metadata": {},
   "source": [
    "# Permutations"
   ]
  },
  {
   "cell_type": "markdown",
   "metadata": {},
   "source": [
    "Consider all permutations of abcde.\n",
    "1. How many do not contain abc?\n",
    "2. How many contain ab or bc?\n",
    "3. How many contain ab or bc but not abc?"
   ]
  },
  {
   "cell_type": "code",
   "execution_count": 9,
   "metadata": {},
   "outputs": [],
   "source": [
    "# Indsæt her:\n",
    "pf = PermutationFilter(\"abcde\")\n",
    "\n",
    "# All permutations not containing 'abc'½\n",
    "no_abc = pf.filter_permutations(exclude_substrings=['abc'])\n",
    "print(\"Count not containing 'abc':\", len(no_abc))\n",
    "\n",
    "# All permutations containing 'ab' or 'bc'\n",
    "ab_bc = pf.filter_permutations(include_substrings=['ab', 'bc'])\n",
    "print(\"Count containing 'ab' or 'bc':\", len(ab_bc))\n",
    "\n",
    "# All permutations containing 'ab' or 'bc' but not 'abc'\n",
    "ab_bc_no_abc = pf.filter_permutations(include_substrings=['ab', 'bc'], exclude_substrings=['abc'])\n",
    "print(\"Count containing 'ab' or 'bc' but not 'abc':\", len(ab_bc_no_abc))"
   ]
  },
  {
   "cell_type": "markdown",
   "metadata": {},
   "source": [
    "# Coefficients"
   ]
  },
  {
   "cell_type": "markdown",
   "metadata": {},
   "source": [
    "The coefficient of $x^7 \\cdot y^2$ in $(2x+3y)^9$ is:"
   ]
  },
  {
   "cell_type": "code",
   "execution_count": 10,
   "metadata": {},
   "outputs": [],
   "source": [
    "# Define the variables\n",
    "x, y = symbols('x y')\n",
    "\n",
    "# Indskriv funktionen og coefficients\n",
    "expr = (2*x + 3*y)**9\n",
    "coeffs = x**7 * y**2\n",
    "\n",
    "# Expand the expression\n",
    "expanded_expr = expand(expr)\n",
    "\n",
    "# Extract the coefficient of x^7 * y^2\n",
    "coefficient = expanded_expr.coeff(coeffs)\n",
    "\n",
    "# Factorize the coefficient\n",
    "factorized_coefficient = factorint(coefficient)\n",
    "factorized_coefficient\n"
   ]
  },
  {
   "cell_type": "markdown",
   "metadata": {},
   "source": [
    "Aflæses som $2^93^4$"
   ]
  },
  {
   "cell_type": "markdown",
   "metadata": {},
   "source": [
    "## If it doesn't work use Binomial Theorem (Manual Approach):\n",
    "\n",
    "### General Term in the Expansion of $ (2x + 3y)^9 $\n",
    "\n",
    "The general term in the expansion of $ (2x + 3y)^9 $ is given by:\n",
    "\n",
    "$$\n",
    "T_k = \\binom{9}{k} \\cdot (2x)^{9-k} \\cdot (3y)^k\n",
    "$$\n",
    "\n",
    "---\n",
    "\n",
    "For $ x^7 \\cdot y^2 $, we have:\n",
    "\n",
    "$$\n",
    "9 - k = 7 \\implies k = 2\n",
    "$$\n",
    "\n",
    "---\n",
    "\n",
    "### Substitute $ k = 2 $:\n",
    "\n",
    "The coefficient of $ x^7 \\cdot y^2 $ is:\n",
    "\n",
    "$$\n",
    "\\text{Coefficient} = \\binom{9}{2} \\cdot (2)^7 \\cdot (3)^2\n",
    "$$\n",
    "\n",
    "### Step 2: Substitute $ k = 2 $\n",
    "\n",
    "The coefficient of $ x^7 y^2 $ is:\n",
    "\n",
    "$$\n",
    "\\text{Coefficient} = \\binom{9}{2} \\cdot (2)^7 \\cdot (3)^2\n",
    "$$\n",
    "\n",
    "---\n",
    "\n",
    "### Step 3: Compute Each Part\n",
    "\n",
    "1. **Binomial Coefficient:**\n",
    "   $$\n",
    "   \\binom{9}{2} = \\frac{9 \\cdot 8}{2} = 36\n",
    "   $$\n",
    "\n",
    "2. **Power of 2:**\n",
    "   $$\n",
    "   (2)^7 = 128\n",
    "   $$\n",
    "\n",
    "3. **Power of 3:**\n",
    "   $$\n",
    "   (3)^2 = 9\n",
    "   $$\n",
    "\n",
    "4. **Combine All:**\n",
    "   $$\n",
    "   \\text{Coefficient} = 36 \\cdot 128 \\cdot 9\n",
    "   $$\n",
    "\n",
    "---\n",
    "\n",
    "### Step 4: Simplify the Expression\n",
    "\n",
    "Simplify step-by-step:\n",
    "\n",
    "1. Multiply:\n",
    "   $$\n",
    "   36 \\cdot 128 = 4608\n",
    "   $$\n",
    "2. Multiply further:\n",
    "   $$\n",
    "   4608 \\cdot 9 = 41472\n",
    "   $$\n",
    "\n",
    "This simplifies in terms of powers of 2 and 3:\n",
    "$$\n",
    "41472 = 2^9 \\cdot 3^4\n",
    "$$\n",
    "\n"
   ]
  },
  {
   "cell_type": "markdown",
   "metadata": {},
   "source": [
    "# Number of derangements\n",
    "Let $ D_n $ denote the number of derangements of $ n $ objects. For instance, $ D_3 = 2 $, because the derangements of $ 123 $ are $ 231 $ and $ 312 $. We will evaluate $ D_n $ for all positive integers $ n $ using the principle of inclusion–exclusion.\n",
    "\n",
    "---\n",
    "\n",
    "## **Theorem 2**\n",
    "\n",
    "The number of derangements of a set with $ n $ elements is:\n",
    "\n",
    "$$\n",
    "D_n = n! \\left[ 1 - \\frac{1}{1!} + \\frac{1}{2!} - \\frac{1}{3!} + \\cdots + (-1)^n \\frac{1}{n!} \\right].\n",
    "$$"
   ]
  },
  {
   "cell_type": "code",
   "execution_count": 11,
   "metadata": {},
   "outputs": [],
   "source": [
    "# Example D_6\n",
    "derangement_formula(6)"
   ]
  },
  {
   "cell_type": "markdown",
   "metadata": {},
   "source": [
    "# Cube graph"
   ]
  },
  {
   "cell_type": "code",
   "execution_count": 12,
   "metadata": {},
   "outputs": [],
   "source": [
    "# Example: Edges in a 4-cube\n",
    "n = 4\n",
    "print(f\"Number of edges in a {n}-cube: {count_edges_in_n_cube(n)}\")\n"
   ]
  },
  {
   "cell_type": "markdown",
   "metadata": {},
   "source": [
    "# Min number sum (pigeonhole principle)"
   ]
  },
  {
   "cell_type": "markdown",
   "metadata": {},
   "source": [
    "![image.png](images/minNumberGuarentee.png)"
   ]
  },
  {
   "cell_type": "code",
   "execution_count": 13,
   "metadata": {},
   "outputs": [],
   "source": [
    "# Indtast tal og target:\n",
    "numbers = [1, 3, 5, 7, 9, 11, 13, 15]\n",
    "target = 16\n",
    "\n",
    "count = guaranteed_selection_count(target, numbers)\n",
    "print(f\"Minimum number of selections needed to guarantee a sum of {target}: {count}\")"
   ]
  },
  {
   "cell_type": "markdown",
   "metadata": {},
   "source": [
    "# Relation\n",
    "**Reflexive:** A binary relation $ R $ on a set $ A $ is called *reflexive* if every element in $ A $ is related to itself. Formally, for every $ a \\in A $,\n",
    "$$\n",
    "(a, a) \\in R.\n",
    "$$\n",
    "\n",
    "**Symmetric:** A binary relation $ R $ on a set $ A $ is *symmetric* if whenever $ a $ is related to $ b $, then $ b $ is also related to $ a $. Formally, for every $ a, b \\in A $,\n",
    "$$\n",
    "(a, b) \\in R \\implies (b, a) \\in R.\n",
    "$$\n",
    "\n",
    "**Antisymmetric:** A binary relation $ R $ on a set $ A $ is *antisymmetric* if the only way for both $ a $ to be related to $ b $ and $ b $ to be related to $ a $ to hold simultaneously is when $ a = b $. Formally, for every $ a, b \\in A $,\n",
    "$$\n",
    "(a, b) \\in R \\text{ and } (b, a) \\in R \\implies a = b.\n",
    "$$\n",
    "\n",
    "**Transitive:** A binary relation $ R $ on a set $ A $ is *transitive* if whenever $ a $ is related to $ b $ and $ b $ is related to $ c $, then $ a $ must also be related to $ c $. Formally, for every $ a, b, c \\in A $,\n",
    "$$\n",
    "(a, b) \\in R \\text{ and } (b, c) \\in R \\implies (a, c) \\in R.\n",
    "$$\n"
   ]
  },
  {
   "cell_type": "markdown",
   "metadata": {},
   "source": [
    "![image.png](images/relations.png)"
   ]
  },
  {
   "cell_type": "code",
   "execution_count": 14,
   "metadata": {},
   "outputs": [],
   "source": [
    "# Indput her:\n",
    "A = {'a', 'b', 'c', 'd'}\n",
    "\n",
    "R1 = {('a','b'), ('b','a'), ('b','c'), ('c','b'), ('c','d'), ('d','a'), ('a','d')}\n",
    "results_R1 = check_relation_properties(A, R1)\n",
    "print(\"R1:\", results_R1)\n",
    "\n",
    "R2 = {('a','a'), ('b','b'), ('c','c'), ('d','d'), ('c','d'), ('d','c'), ('b','c')}\n",
    "results_R2 = check_relation_properties(A, R2)\n",
    "print(\"R2:\", results_R2)\n",
    "\n",
    "R3 = {('a','b'), ('b','c'), ('c','d'), ('a','c')}\n",
    "results_R3 = check_relation_properties(A, R3)\n",
    "print(\"R3:\", results_R3)"
   ]
  },
  {
   "cell_type": "markdown",
   "metadata": {},
   "source": [
    "# Sets and subset sizes"
   ]
  },
  {
   "cell_type": "markdown",
   "metadata": {},
   "source": [
    "![image.png](images/sizeOfSet.png)"
   ]
  },
  {
   "cell_type": "code",
   "execution_count": 15,
   "metadata": {},
   "outputs": [],
   "source": [
    "n = 80\n",
    "\n",
    "# Question 1: How many subsets have size exactly 20?\n",
    "# Closed form: C(80, 20)\n",
    "count_size_20 = comb(n, 20)\n",
    "\n",
    "# Question 2: How many subsets have no element greater than 60?\n",
    "# This is simply all subsets of {1, 2, ..., 60} since we can't pick anything > 60.\n",
    "# Number of such subsets: 2^60\n",
    "count_no_greater_than_60 = 2**60\n",
    "\n",
    "# Question 3: How many subsets have an even number of elements?\n",
    "# For a set of size n, the number of even-sized subsets equals the number of odd-sized subsets, each is half of 2^n.\n",
    "# This is because the binomial coefficients sum evenly. Thus, the count is 2^(n-1).\n",
    "count_even_elements = 2**(n - 1)\n",
    "\n",
    "# Print the answers clearly\n",
    "print(\"Number of subsets of A with size exactly 20: C(80, 20) =\", count_size_20)\n",
    "print(\"Number of subsets of A with no element greater than 60: 2^60 =\", count_no_greater_than_60)\n",
    "print(\"Number of subsets of A with an even number of elements: 2^(79) =\", count_even_elements)\n"
   ]
  },
  {
   "cell_type": "markdown",
   "metadata": {},
   "source": [
    "604462909807314587353088 = $2^{79}$"
   ]
  },
  {
   "cell_type": "markdown",
   "metadata": {},
   "source": [
    "# gcd og lcm"
   ]
  },
  {
   "cell_type": "markdown",
   "metadata": {},
   "source": [
    "Greatest common divider og lowest common multiple skrives som:"
   ]
  },
  {
   "cell_type": "code",
   "execution_count": 16,
   "metadata": {},
   "outputs": [],
   "source": [
    "# Example\n",
    "a = 123\n",
    "b = 234\n",
    "\n",
    "gcd(a,b), lcm(a,b)"
   ]
  },
  {
   "cell_type": "markdown",
   "metadata": {},
   "source": [
    "![image.png](images/theorem5.png)"
   ]
  },
  {
   "cell_type": "markdown",
   "metadata": {},
   "source": [
    "# Identity checker"
   ]
  },
  {
   "cell_type": "markdown",
   "metadata": {},
   "source": [
    "![image.png](images/identitetCheck.png)"
   ]
  },
  {
   "cell_type": "code",
   "execution_count": 28,
   "metadata": {},
   "outputs": [],
   "source": [
    "# Define the variable\n",
    "n = Symbol('n', positive=True, integer=True)\n",
    "'''\n",
    "Indskriv dinne funktioner her:\n",
    "'''\n",
    "# Funktion som man er givet\n",
    "def reference(n):\n",
    "    return n * (2**(n-1)) # Omskriv denne del\n",
    "\n",
    "# sum_{k=1}^{n} (n choose k)*k\n",
    "f1 = lambda n: sum(\n",
    "    # Skriv funktion her\n",
    "    comb(n, k)*k\n",
    "    for k in\n",
    "    # Skriv range n løber mod husk at du skal plus med 1\n",
    "    range(1, n+1)\n",
    "    )\n",
    "# sum_{k=0}^{n-1} (n choose k) (n choose k+1)\n",
    "f2 = lambda n: sum(\n",
    "    comb(n, k)*comb(n, k+1)\n",
    "    for k in\n",
    "    range(n)\n",
    "    )\n",
    "# sum_{k=1}^{n} 2^k\n",
    "f3 = lambda n: sum(\n",
    "    2**k\n",
    "    for k in\n",
    "    range(1, n+1)\n",
    "    )\n",
    "# sum_{k=0}^{n-1} 2^k\n",
    "f4 = lambda n: sum(\n",
    "    2**k\n",
    "    for k in\n",
    "    range(n)\n",
    "    )\n",
    "candidates = [f1,f2,f3,f4]\n",
    "\n",
    "# Check each candidate\n",
    "for i, func in enumerate(candidates, start=1):\n",
    "    matches = test_formula(func,reference)\n",
    "    if matches:\n",
    "        print(f\"Function 'f{i}' equals for all tested n.\")\n",
    "    else:\n",
    "        print(f\"Function 'f{i}' does NOT equal.\")"
   ]
  },
  {
   "cell_type": "code",
   "execution_count": null,
   "metadata": {},
   "outputs": [],
   "source": []
  }
 ],
 "metadata": {
  "kernelspec": {
   "display_name": "DTUMisc",
   "language": "python",
   "name": "python3"
  },
  "language_info": {
   "codemirror_mode": {
    "name": "ipython",
    "version": 3
   },
   "file_extension": ".py",
   "mimetype": "text/x-python",
   "name": "python",
   "nbconvert_exporter": "python",
   "pygments_lexer": "ipython3",
   "version": "3.11.10"
  }
 },
 "nbformat": 4,
 "nbformat_minor": 2
}
